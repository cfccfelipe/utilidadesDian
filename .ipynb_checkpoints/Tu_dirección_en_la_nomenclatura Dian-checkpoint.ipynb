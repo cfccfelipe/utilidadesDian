{
 "cells": [
  {
   "cell_type": "markdown",
   "metadata": {},
   "source": [
    "# Convierte tu dirección al estandar de la nomenclatura Dian"
   ]
  },
  {
   "cell_type": "markdown",
   "metadata": {},
   "source": [
    "Los contribuyentes de impuestos en Colombia deben tener en cuenta la implementación de códigos usados para escribir direcciones, a esto le llamamos nomenclatura Dian para direcciones.\n",
    "\n",
    "Esta misma, le sirve a las organizaciones para manejar un estandar en la escritura de las direcciones dentro de sus bases de datos contables y tributarias.\n",
    "\n",
    "Fecha: 2020/11/05\n",
    "Carlos Felipe Cortés Cataño https://github.com/cfccfelipe/"
   ]
  },
  {
   "cell_type": "markdown",
   "metadata": {},
   "source": [
    "# Instructivo"
   ]
  },
  {
   "cell_type": "code",
   "execution_count": 1,
   "metadata": {},
   "outputs": [],
   "source": [
    "#1. Definir el diccionario con la nomenclatura\n",
    "nomenclatura = {'Avenida calle':'AC',\n",
    "'administración':'AD',\n",
    "'adelante':'ADL',\n",
    "'aeropuerto':'AER',\n",
    "'agencia':'AG',\n",
    "'agrupación':'AGP',\n",
    "'avenida carrera':'AK',\n",
    "'altillo':'AL',\n",
    "'al lado':'ALD',\n",
    "'almacén':'ALM',\n",
    "'apartamento':'AP',\n",
    "'apartado':'APTDO',\n",
    "'atrás':'ATR',\n",
    "'autopista':'AUT',\n",
    "'avenida':'AV',\n",
    "'anillo vial':'AVIAL',\n",
    "'bodega':'BG',\n",
    "'bloque':'BL',\n",
    "'boulevard':'BLV',\n",
    "'barrio':'BRR',\n",
    "'borregimiento':'C',\n",
    "'casa':'CA',\n",
    "'caserío':'CAS',\n",
    "'centro comercial':'CC',\n",
    "'ciudadela':'CD',\n",
    "'célula':'CEL',\n",
    "'centro':'CEN',\n",
    "'circular':'CIR',\n",
    "'calle':'CL',\n",
    "'callejón':'CLJ',\n",
    "'camino':'CN',\n",
    "'conjunto residencial':'CON',\n",
    "'conjunto':'CONJ',\n",
    "'carrera':'CR',\n",
    "'carretera':'CRT',\n",
    "'circunvalar':'CRV',\n",
    "'consultorio':'CS',\n",
    "'diagonal':'DG',\n",
    "'depósito':'DP',\n",
    "'departamento':'DPTO',\n",
    "'depósito sótano':'DS',\n",
    "'edificio':'ED',\n",
    "'entrada':'EN',\n",
    "'escalera':'ES',\n",
    "'esquina':'ESQ',\n",
    "'este':'ESTE',\n",
    "'etapa':'ET',\n",
    "'exterior':'EX',\n",
    "'finca':'FCA',\n",
    "'garaje':'GJ',\n",
    "'garaje sótano':'GS',\n",
    "'glorieta':'GT',\n",
    "'hacienda':'HC',\n",
    "'hangar':'HG',\n",
    "'interior':'IN',\n",
    "'inspección de policía':'IP',\n",
    "'inspección departamental':'IPD',\n",
    "'inspección municipal':'IPM',\n",
    "'kilómetro':'KM',\n",
    "'local':'LC',\n",
    "'local mezzanine':'LM',\n",
    "'lote':'LT',\n",
    "'módulo':'MD',\n",
    "'mojón':'MJ',\n",
    "'muelle':'MLL',\n",
    "'mezzanine':'MN',\n",
    "'manzana':'MZ',\n",
    "'vías de nombre común':'NOMBRE VIA',\n",
    "'norte':'NORTE',\n",
    "'oriente':'O',\n",
    "'occidente':'OCC',\n",
    "'oeste':'OESTE',\n",
    "'oficina':'OF',\n",
    "'piso':'P',\n",
    "'parcela':'PA',\n",
    "'parque':'PAR',\n",
    "'predio':'PD',\n",
    "'penthouse':'PH',\n",
    "'pasaje':'PJ',\n",
    "'planta':'PL',\n",
    "'puente':'PN',\n",
    "'portería':'POR',\n",
    "'poste':'POS',\n",
    "'parqueadero':'PQ',\n",
    "'paraje':'PRJ',\n",
    "'paseo':'PS',\n",
    "'puesto':'PT',\n",
    "'park Way':'PW',\n",
    "'round point':'RP',\n",
    "'salón':'SA',\n",
    "'salón comunal':'SC',\n",
    "'salida':'SD',\n",
    "'sector':'SEC',\n",
    "'solar':'SL',\n",
    "'súper manzana':'SM',\n",
    "'semisótano':'SS',\n",
    "'sótano':'ST',\n",
    "'suite':'SUITE',\n",
    "'sur':'SUR',\n",
    "'terminal':'TER',\n",
    "'terraplén':'TERPLN',\n",
    "'torre':'TO',\n",
    "'transversal':'TV',\n",
    "'terraza':'TZ',\n",
    "'unidad':'UN',\n",
    "'unidad residencial':'UR',\n",
    "'urbanización':'URB',\n",
    "'vereda':'VRD',\n",
    "'variante':'VTE',\n",
    "'zona franca':'ZF',\n",
    "'zona':'ZN'}"
   ]
  },
  {
   "cell_type": "code",
   "execution_count": 3,
   "metadata": {
    "scrolled": true
   },
   "outputs": [
    {
     "name": "stdout",
     "output_type": "stream",
     "text": [
      "Escribe tu dirección: Carrera 10A No. 20 - 40  Edificio El Clarín piso 3 Centro La Matuna\n",
      "['carrera', '10a', 'no.', '20', '-', '40', 'edificio', 'el', 'clarín', 'piso', '3', 'centro', 'la', 'matuna']\n"
     ]
    }
   ],
   "source": [
    "#2. Recibir la dirección a cambiar\n",
    "direccioninicial = input(\"Escribe tu dirección: \").lower()\n",
    "#2.1. Separando la dirección en una lista\n",
    "dil = direccioninicial.split() #direccion inicial lista\n",
    "print(dil)"
   ]
  },
  {
   "cell_type": "code",
   "execution_count": 4,
   "metadata": {},
   "outputs": [
    {
     "name": "stdout",
     "output_type": "stream",
     "text": [
      "La dirección en nomenclatura DIAN es: CR 10A 20 40 ED EL CLARÍN P 3 CEN LA MATUNA "
     ]
    }
   ],
   "source": [
    "#3. Creando nueva dirección\n",
    "#3.1. Eliminar objetos no necesitarios\n",
    "nomenclatura[\"-\"] = \"\"\n",
    "nomenclatura[\"#\"] = \"\"\n",
    "nomenclatura[\"no\"] = \"\"\n",
    "nomenclatura[\"no.\"] = \"\"\n",
    "#3.2. Creando lista contenedora de la nueva dirección\n",
    "direccion = []\n",
    "#3.3. Agregando elementos con la llave del diccionario nomenclatura\n",
    "for x in dil:\n",
    "    #Dejando elementos que no esten en el diccionario nomenclatura\n",
    "    try:\n",
    "        direccion.append(nomenclatura[str(x)])\n",
    "    except:\n",
    "        direccion.append(x.upper())\n",
    "print(\"La dirección en nomenclatura DIAN es:\", end = \" \")\n",
    "for x in direccion:\n",
    "    #Elimininando con try-except indexes que no son necesarios del punto 3.1.\n",
    "    if x == \"\":\n",
    "        pass\n",
    "    else:\n",
    "    #Imprimiendo dirección final\n",
    "        print(x, end= \" \")\n"
   ]
  },
  {
   "cell_type": "code",
   "execution_count": 11,
   "metadata": {
    "scrolled": true
   },
   "outputs": [
    {
     "name": "stdout",
     "output_type": "stream",
     "text": [
      "¡Use nomenclatura Dian para estandarizar las direcciones de sus bases de datos!\n",
      "Escribe tu dirección: Carrera 8a No. 7 - 88 /94  Barrio  La Estrella\n",
      "La dirección en nomenclatura DIAN es:\n",
      "CR 8A 7 88 /94 BRR LA ESTRELLA "
     ]
    }
   ],
   "source": [
    "def transformacion(dic):\n",
    "    direccioninicial = input(\"Escribe tu dirección: \").lower()\n",
    "    dil = direccioninicial.split()\n",
    "    dic[\"-\"] = \"\"\n",
    "    dic[\"#\"] = \"\"\n",
    "    dic[\"no\"] = \"\"\n",
    "    dic[\"no.\"] = \"\"\n",
    "    dic[\"/\"] = \"\"\n",
    "    dic[\".\"] = \"\"\n",
    "    dic = []\n",
    "    newdireccion = []\n",
    "    for x in dil:\n",
    "        try:\n",
    "            newdireccion.append(nomenclatura[str(x)])\n",
    "        except:\n",
    "            newdireccion.append(x.upper())\n",
    "    print(\"La dirección en nomenclatura DIAN es:\", end = \"\\n\")\n",
    "    for x in newdireccion:\n",
    "        if x == \"\":\n",
    "            pass\n",
    "        else:\n",
    "            print(x, end= \" \")\n",
    "def main():\n",
    "    print(\"¡Use nomenclatura Dian para estandarizar las direcciones de sus bases de datos!\")\n",
    "    transformacion(nomenclatura)\n",
    "main()\n"
   ]
  }
 ],
 "metadata": {
  "kernelspec": {
   "display_name": "Python 3",
   "language": "python",
   "name": "python3"
  },
  "language_info": {
   "codemirror_mode": {
    "name": "ipython",
    "version": 3
   },
   "file_extension": ".py",
   "mimetype": "text/x-python",
   "name": "python",
   "nbconvert_exporter": "python",
   "pygments_lexer": "ipython3",
   "version": "3.8.3"
  }
 },
 "nbformat": 4,
 "nbformat_minor": 4
}
