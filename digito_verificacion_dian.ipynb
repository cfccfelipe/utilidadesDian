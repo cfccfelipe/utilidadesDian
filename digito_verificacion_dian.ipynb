{
 "cells": [
  {
   "cell_type": "markdown",
   "metadata": {},
   "source": [
    "# Digito de verificación DIAN Colombia en Python"
   ]
  },
  {
   "cell_type": "markdown",
   "metadata": {},
   "source": [
    "El siguiente codigo permite determinar digito de verificación de los números de identificación tributaria (NIT) en Colombia mediante el instructivo de la Orden Administrativa 4 de 1989 DIAN - Dirección de Impuestos y Aduanas Nacionales\n"
   ]
  },
  {
   "cell_type": "markdown",
   "metadata": {},
   "source": [
    "Carlos Felipe Cortés Cataño - https://github.com/cfccfelipe"
   ]
  },
  {
   "cell_type": "markdown",
   "metadata": {},
   "source": [
    "# Instructivo"
   ]
  },
  {
   "cell_type": "code",
   "execution_count": null,
   "metadata": {},
   "outputs": [],
   "source": [
    "#1. Recibiendo datos:\n",
    "\n",
    "#1.1.Recibimos el NIT\n",
    "nit = input(\"Escribe el numero: \")\n",
    "\n",
    "#1.1. Agregando lista con el NIT\n",
    "newnit = []\n",
    "for x in nit:\n",
    "    newnit.append(int(x))\n",
    "print(\"Este es el NIT en lista\" + str(newnit))\n",
    "\n",
    "#1.2. Agregando lista de primos definidos por la DIAN\n",
    "serie = [3, 7, 13, 17, 19, 23, 29, 37, 41, 43,47, 53, 59,67, 71]\n",
    "newserie = []\n",
    "for x in range(len(newnit)):  \n",
    "    newserie.append(serie[x])#Ajustando tamaño lista tamaño del NIT\n",
    "newserie.sort(reverse=True)#Revirtiendo el orden\n",
    "\n",
    "print(\"Esta es la lista de números primos \" + str(newserie))"
   ]
  },
  {
   "cell_type": "code",
   "execution_count": null,
   "metadata": {},
   "outputs": [],
   "source": [
    "#2. Calculando Digito:\n",
    "\n",
    "#2.1. Multiplicando la lista de digitos del NIT por la lista de los primos \n",
    "#Suma las multiplicaciones\n",
    "suma = 0 \n",
    "#Contador de la posición en las listas\n",
    "contador = 0 \n",
    "for x in range(len(newnit)):\n",
    "    suma += (newserie[contador] * (newnit[contador]))\n",
    "    contador += 1\n",
    "print(suma)    \n",
    "#2.2. Calculando el modulo 11\n",
    "suma = round(suma % 11)\n",
    "print(suma)\n",
    "#2.3. Si es diferente a 1 o 0 se debe restar por 11\n",
    "if suma == 1 or suma == 0:\n",
    "    print(\"El digito de verificacion es: \" + str(suma))\n",
    "else:\n",
    "    suma = 11 - suma\n",
    "    print(\"El digito de verificacion es: \" + str(suma))\n",
    "        \n",
    "\n"
   ]
  },
  {
   "cell_type": "markdown",
   "metadata": {},
   "source": [
    "# Programa"
   ]
  },
  {
   "cell_type": "code",
   "execution_count": 1,
   "metadata": {
    "scrolled": true
   },
   "outputs": [
    {
     "name": "stdout",
     "output_type": "stream",
     "text": [
      "¡Bienvenido! \n",
      "\n",
      "¿Desea conocer el digito de verificación?\n",
      "Si(s) // No(n): s\n",
      "Escribe el NIT: 1053849221\n",
      "El digito de verificacion es: 1\n",
      "Desea hacer otra consulta\n",
      "Si(s) // No(n): n\n"
     ]
    }
   ],
   "source": [
    "def listas():\n",
    "    nit = input(\"Escribe el NIT: \")\n",
    "    newnit = []\n",
    "    for x in nit:\n",
    "        newnit.append(int(x))\n",
    "    serie = [3, 7, 13, 17, 19, 23, 29, 37, 41, 43,47, 53, 59,67, 71]\n",
    "    newserie = []\n",
    "    for x in range(len(newnit)):  \n",
    "        newserie.append(serie[x])\n",
    "    newserie.sort(reverse=True)\n",
    "    return newnit, newserie\n",
    "\n",
    "def digito(newnit,newserie):\n",
    "    contador = 0 \n",
    "    suma = 0\n",
    "    for x in range(len(newnit)):\n",
    "        suma += (newserie[contador] * (newnit[contador]))\n",
    "        contador += 1    \n",
    "    suma = suma % 11\n",
    "    if suma == 1 or suma == 0:\n",
    "        print(\"El digito de verificacion es: \" + str(suma))\n",
    "    else:\n",
    "        suma = 11 - suma\n",
    "        print(\"El digito de verificacion es: \" + str(suma))\n",
    "def main():\n",
    "    print(\"¡Bienvenido! \\n\")\n",
    "    print(\"¿Desea conocer el digito de verificación?\")\n",
    "    \n",
    "    comando = input(\"Si(s) // No(n): \")       \n",
    "    if comando == \"s\":\n",
    "        while comando == \"s\":\n",
    "            nit, serie = listas()\n",
    "            digito(nit,serie)\n",
    "            print(\"Desea hacer otra consulta\")\n",
    "            comando = input(\"Si(s) // No(n): \")\n",
    "            if comando != \"s\" and comando != \"n\":\n",
    "                print(\"Comando no valido\")\n",
    "                main()\n",
    "    elif comando == \"n\":\n",
    "        print(\"Gracias por usar el programa\")\n",
    "    else:\n",
    "        print(\"Comando no valido\")\n",
    "        main()\n",
    "        \n",
    "       \n",
    "main()\n"
   ]
  }
 ],
 "metadata": {
  "kernelspec": {
   "display_name": "Python 3",
   "language": "python",
   "name": "python3"
  },
  "language_info": {
   "codemirror_mode": {
    "name": "ipython",
    "version": 3
   },
   "file_extension": ".py",
   "mimetype": "text/x-python",
   "name": "python",
   "nbconvert_exporter": "python",
   "pygments_lexer": "ipython3",
   "version": "3.8.3"
  }
 },
 "nbformat": 4,
 "nbformat_minor": 4
}
